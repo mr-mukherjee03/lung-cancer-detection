{
 "cells": [
  {
   "cell_type": "code",
   "execution_count": 1,
   "id": "49a1df91",
   "metadata": {},
   "outputs": [],
   "source": [
    "import datetime\n",
    "\n",
    "from util.util import importstr\n",
    "from util.logconf import logging\n",
    "log = logging.getLogger('nb')"
   ]
  },
  {
   "cell_type": "code",
   "execution_count": null,
   "id": "83215c0d",
   "metadata": {},
   "outputs": [],
   "source": [
    "def run(app, *argv):\n",
    "    argv = list(argv)\n",
    "    argv.insert(0, '--num-workers=8')  # <1>\n",
    "    log.info(\"Running: {}({!r}).main()\".format(app, argv))\n",
    "    \n",
    "    app_cls = importstr(*app.rsplit('.', 1))  # <2>\n",
    "    app_cls(argv).main()\n",
    "    \n",
    "    log.info(\"Finished: {}.{!r}).main()\".format(app, argv))"
   ]
  },
  {
   "cell_type": "code",
   "execution_count": 3,
   "id": "67f6d180",
   "metadata": {},
   "outputs": [],
   "source": [
    "import os\n",
    "import shutil\n",
    "\n",
    "# clean up any old data that might be around.\n",
    "# We don't call this by default because it's destructive, \n",
    "# and would waste a lot of time if it ran when nothing \n",
    "# on the application side had changed.\n",
    "def cleanCache():\n",
    "    shutil.rmtree('data/cache')\n",
    "    os.mkdir('data/cache')\n",
    "\n",
    "# cleanCache()"
   ]
  },
  {
   "cell_type": "code",
   "execution_count": 4,
   "id": "3b57bc58",
   "metadata": {},
   "outputs": [],
   "source": [
    "training_epochs = 20\n",
    "experiment_epochs = 10\n",
    "final_epochs = 50\n",
    "\n",
    "training_epochs = 2\n",
    "experiment_epochs = 2\n",
    "final_epochs = 5\n",
    "seg_epochs = 10"
   ]
  },
  {
   "cell_type": "code",
   "execution_count": 5,
   "id": "6d543993",
   "metadata": {},
   "outputs": [
    {
     "data": {
      "text/plain": [
       "'c:\\\\PROJECTS\\\\Luna'"
      ]
     },
     "execution_count": 5,
     "metadata": {},
     "output_type": "execute_result"
    }
   ],
   "source": [
    "os.getcwd()"
   ]
  },
  {
   "cell_type": "code",
   "execution_count": 6,
   "id": "681da45e",
   "metadata": {},
   "outputs": [
    {
     "name": "stderr",
     "output_type": "stream",
     "text": [
      "2025-06-17 23:44:43,566 INFO     pid:25740 nb:004:run Running: ch11.prepcache.LunaPrepCacheApp(['--num-workers=4']).main()\n",
      "2025-06-17 23:44:48,907 INFO     pid:25740 ch11.prepcache:041:main Starting LunaPrepCacheApp, Namespace(batch_size=1024, num_workers=4)\n",
      "2025-06-17 23:44:51,002 INFO     pid:25740 ch11.dsets:266:__init__ <ch11.dsets.LunaDataset object at 0x000002E6B5312E10>: 56938 training samples, 56816 neg, 122 pos, unbalanced ratio\n",
      "2025-06-17 23:44:51,004 WARNING  pid:25740 util.util:219:enumerateWithEstimate Stuffing cache ----/56, starting\n",
      "2025-06-17 23:46:06,198 INFO     pid:25740 util.util:236:enumerateWithEstimate Stuffing cache    8/56, done at 2025-06-17 23:52:23, 0:06:57\n",
      "2025-06-17 23:47:15,862 INFO     pid:25740 util.util:236:enumerateWithEstimate Stuffing cache   16/56, done at 2025-06-17 23:52:45, 0:07:19\n",
      "2025-06-17 23:49:02,342 INFO     pid:25740 util.util:236:enumerateWithEstimate Stuffing cache   32/56, done at 2025-06-17 23:51:53, 0:06:27\n",
      "2025-06-17 23:51:19,318 WARNING  pid:25740 util.util:249:enumerateWithEstimate Stuffing cache ----/56, done at 2025-06-17 23:51:19\n",
      "2025-06-17 23:51:19,384 INFO     pid:25740 nb:009:run Finished: ch11.prepcache.LunaPrepCacheApp.['--num-workers=4']).main()\n"
     ]
    }
   ],
   "source": [
    "run('ch11.prepcache.LunaPrepCacheApp')"
   ]
  },
  {
   "cell_type": "code",
   "execution_count": 6,
   "id": "b9e2516d",
   "metadata": {},
   "outputs": [
    {
     "name": "stderr",
     "output_type": "stream",
     "text": [
      "2025-06-18 00:34:19,391 INFO     pid:20036 nb:004:run Running: ch11.training.LunaTrainingApp(['--num-workers=4', '--epochs=1', 'unbalanced']).main()\n",
      "2025-06-18 00:34:22,806 INFO     pid:20036 ch11.training:127:initModel Using CUDA; 1 devices.\n",
      "2025-06-18 00:34:24,110 INFO     pid:20036 ch11.training:188:main Starting LunaTrainingApp, Namespace(batch_size=32, num_workers=4, epochs=1, balanced=False, augmented=False, augment_flip=False, augment_offset=False, augment_scale=False, augment_rotate=False, augment_noise=False, tb_prefix='p2ch12', comment='unbalanced')\n",
      "2025-06-18 00:34:26,200 INFO     pid:20036 ch11.dsets:266:__init__ <ch11.dsets.LunaDataset object at 0x000002CC31036C90>: 51244 training samples, 51135 neg, 109 pos, unbalanced ratio\n",
      "2025-06-18 00:34:26,200 INFO     pid:20036 ch11.dsets:266:__init__ <ch11.dsets.LunaDataset object at 0x000002CC32034350>: 5694 validation samples, 5681 neg, 13 pos, unbalanced ratio\n",
      "2025-06-18 00:34:26,200 INFO     pid:20036 ch11.training:195:main Epoch 1 of 1, 1602/178 batches of size 32*1\n",
      "2025-06-18 00:34:26,345 WARNING  pid:20036 util.util:219:enumerateWithEstimate E1 Training ----/1602, starting\n",
      "2025-06-18 00:34:44,010 INFO     pid:20036 util.util:236:enumerateWithEstimate E1 Training   16/1602, done at 2025-06-18 00:37:39, 0:02:56\n",
      "2025-06-18 00:34:50,043 INFO     pid:20036 util.util:236:enumerateWithEstimate E1 Training   64/1602, done at 2025-06-18 00:37:58, 0:03:15\n",
      "2025-06-18 00:35:16,780 INFO     pid:20036 util.util:236:enumerateWithEstimate E1 Training  256/1602, done at 2025-06-18 00:38:18, 0:03:36\n",
      "2025-06-18 00:36:54,599 INFO     pid:20036 util.util:236:enumerateWithEstimate E1 Training 1024/1602, done at 2025-06-18 00:38:09, 0:03:26\n",
      "2025-06-18 00:38:06,643 WARNING  pid:20036 util.util:249:enumerateWithEstimate E1 Training ----/1602, done at 2025-06-18 00:38:06\n",
      "2025-06-18 00:38:06,697 INFO     pid:20036 ch11.training:304:logMetrics E1 LunaTrainingApp\n",
      "2025-06-18 00:38:06,733 INFO     pid:20036 ch11.training:341:logMetrics E1 trn      0.0435 loss,  99.7% correct, 0.0139 precision, 0.0092 recall, 0.0110 f1 score\n",
      "2025-06-18 00:38:06,738 INFO     pid:20036 ch11.training:353:logMetrics E1 trn_neg  0.0066 loss,  99.9% correct (51064 of 51135)\n",
      "2025-06-18 00:38:06,741 INFO     pid:20036 ch11.training:364:logMetrics E1 trn_pos  17.3681 loss,   0.9% correct (1 of 109)\n",
      "2025-06-18 00:38:06,807 WARNING  pid:20036 util.util:219:enumerateWithEstimate E1 Validation  ----/178, starting\n",
      "2025-06-18 00:38:23,835 INFO     pid:20036 util.util:236:enumerateWithEstimate E1 Validation    16/178, done at 2025-06-18 00:38:48, 0:00:26\n",
      "2025-06-18 00:38:29,943 INFO     pid:20036 util.util:236:enumerateWithEstimate E1 Validation    64/178, done at 2025-06-18 00:38:44, 0:00:23\n",
      "2025-06-18 00:38:45,112 WARNING  pid:20036 util.util:249:enumerateWithEstimate E1 Validation  ----/178, done at 2025-06-18 00:38:45\n",
      "2025-06-18 00:38:45,115 INFO     pid:20036 ch11.training:304:logMetrics E1 LunaTrainingApp\n",
      "c:\\PROJECTS\\Luna\\ch11\\training.py:334: RuntimeWarning: invalid value encountered in scalar divide\n",
      "  truePos_count / np.float32(truePos_count + falsePos_count)\n",
      "2025-06-18 00:38:45,129 INFO     pid:20036 ch11.training:341:logMetrics E1 val      0.0212 loss,  99.8% correct, nan precision, 0.0000 recall, nan f1 score\n",
      "2025-06-18 00:38:45,131 INFO     pid:20036 ch11.training:353:logMetrics E1 val_neg  0.0001 loss, 100.0% correct (5681 of 5681)\n",
      "2025-06-18 00:38:45,134 INFO     pid:20036 ch11.training:364:logMetrics E1 val_pos  9.2388 loss,   0.0% correct (0 of 13)\n",
      "2025-06-18 00:38:45,279 INFO     pid:20036 nb:009:run Finished: ch11.training.LunaTrainingApp.['--num-workers=4', '--epochs=1', 'unbalanced']).main()\n"
     ]
    }
   ],
   "source": [
    "run('ch11.training.LunaTrainingApp', '--epochs=1', 'unbalanced')"
   ]
  },
  {
   "cell_type": "code",
   "execution_count": 9,
   "id": "d768c5fa",
   "metadata": {},
   "outputs": [
    {
     "name": "stdout",
     "output_type": "stream",
     "text": [
      "True\n"
     ]
    }
   ],
   "source": [
    "import torch\n",
    "print(torch.cuda.is_available())"
   ]
  },
  {
   "cell_type": "code",
   "execution_count": null,
   "id": "7b7e1c12",
   "metadata": {},
   "outputs": [],
   "source": []
  }
 ],
 "metadata": {
  "kernelspec": {
   "display_name": "luna",
   "language": "python",
   "name": "python3"
  },
  "language_info": {
   "codemirror_mode": {
    "name": "ipython",
    "version": 3
   },
   "file_extension": ".py",
   "mimetype": "text/x-python",
   "name": "python",
   "nbconvert_exporter": "python",
   "pygments_lexer": "ipython3",
   "version": "3.12.8"
  }
 },
 "nbformat": 4,
 "nbformat_minor": 5
}
