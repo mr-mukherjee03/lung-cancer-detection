{
 "cells": [
  {
   "cell_type": "code",
   "execution_count": 1,
   "id": "49a1df91",
   "metadata": {},
   "outputs": [],
   "source": [
    "import datetime\n",
    "\n",
    "from util.util import importstr\n",
    "from util.logconf import logging\n",
    "log = logging.getLogger('nb')"
   ]
  },
  {
   "cell_type": "code",
   "execution_count": 2,
   "id": "83215c0d",
   "metadata": {},
   "outputs": [],
   "source": [
    "def run(app, *argv):\n",
    "    argv = list(argv)\n",
    "    argv.insert(0, '--num-workers=8')  # <1>\n",
    "    log.info(\"Running: {}({!r}).main()\".format(app, argv))\n",
    "    \n",
    "    app_cls = importstr(*app.rsplit('.', 1))  # <2>\n",
    "    app_cls(argv).main()\n",
    "    \n",
    "    log.info(\"Finished: {}.{!r}).main()\".format(app, argv))"
   ]
  },
  {
   "cell_type": "code",
   "execution_count": 3,
   "id": "67f6d180",
   "metadata": {},
   "outputs": [],
   "source": [
    "import os\n",
    "import shutil\n",
    "\n",
    "# clean up any old data that might be around.\n",
    "# We don't call this by default because it's destructive, \n",
    "# and would waste a lot of time if it ran when nothing \n",
    "# on the application side had changed.\n",
    "def cleanCache():\n",
    "    shutil.rmtree('data/cache')\n",
    "    os.mkdir('data/cache')\n",
    "\n",
    "# cleanCache()"
   ]
  },
  {
   "cell_type": "code",
   "execution_count": 4,
   "id": "3b57bc58",
   "metadata": {},
   "outputs": [],
   "source": [
    "training_epochs = 20\n",
    "experiment_epochs = 10\n",
    "final_epochs = 50\n",
    "\n",
    "training_epochs = 2\n",
    "experiment_epochs = 2\n",
    "final_epochs = 5\n",
    "seg_epochs = 10"
   ]
  },
  {
   "cell_type": "code",
   "execution_count": 5,
   "id": "6d543993",
   "metadata": {},
   "outputs": [
    {
     "data": {
      "text/plain": [
       "'c:\\\\PROJECTS\\\\lung-cancer-detection\\\\Luna-3D'"
      ]
     },
     "execution_count": 5,
     "metadata": {},
     "output_type": "execute_result"
    }
   ],
   "source": [
    "os.getcwd()"
   ]
  },
  {
   "cell_type": "code",
   "execution_count": 6,
   "id": "681da45e",
   "metadata": {},
   "outputs": [
    {
     "name": "stderr",
     "output_type": "stream",
     "text": [
      "2025-08-04 18:22:06,627 INFO     pid:12040 nb:004:run Running: segmentation.prepcache.LunaPrepCacheApp(['--num-workers=8']).main()\n",
      "2025-08-04 18:22:10,201 INFO     pid:12040 segmentation.prepcache:048:main Starting LunaPrepCacheApp, Namespace(batch_size=1024, num_workers=8)\n",
      "2025-08-04 18:22:12,176 WARNING  pid:12040 util.util:219:enumerateWithEstimate Stuffing cache ----/57, starting\n"
     ]
    },
    {
     "ename": "FileNotFoundError",
     "evalue": "Caught FileNotFoundError in DataLoader worker process 0.\nOriginal Traceback (most recent call last):\n  File \"c:\\PROJECTS\\lung-cancer-detection\\Luna-3D\\luna\\Lib\\site-packages\\torch\\utils\\data\\_utils\\worker.py\", line 349, in _worker_loop\n    data = fetcher.fetch(index)  # type: ignore[possibly-undefined]\n           ^^^^^^^^^^^^^^^^^^^^\n  File \"c:\\PROJECTS\\lung-cancer-detection\\Luna-3D\\luna\\Lib\\site-packages\\torch\\utils\\data\\_utils\\fetch.py\", line 52, in fetch\n    data = [self.dataset[idx] for idx in possibly_batched_index]\n            ~~~~~~~~~~~~^^^^^\n  File \"c:\\PROJECTS\\lung-cancer-detection\\Luna-3D\\segmentation\\dsets.py\", line 373, in __getitem__\n    getCtRawCandidate(candidateInfo_tup.series_uid, candidateInfo_tup.center_xyz, (7, 96, 96))\n  File \"c:\\PROJECTS\\lung-cancer-detection\\Luna-3D\\luna\\Lib\\site-packages\\diskcache\\core.py\", line 1875, in wrapper\n    result = func(*args, **kwargs)\n             ^^^^^^^^^^^^^^^^^^^^^\n  File \"c:\\PROJECTS\\lung-cancer-detection\\Luna-3D\\segmentation\\dsets.py\", line 227, in getCtRawCandidate\n    ct = getCt(series_uid)\n         ^^^^^^^^^^^^^^^^^\n  File \"c:\\PROJECTS\\lung-cancer-detection\\Luna-3D\\segmentation\\dsets.py\", line 223, in getCt\n    return Ct(series_uid)\n           ^^^^^^^^^^^^^^\n  File \"c:\\PROJECTS\\lung-cancer-detection\\Luna-3D\\segmentation\\dsets.py\", line 112, in __init__\n    raise FileNotFoundError(f\"No MHD file found for series_uid: {series_uid} in {config.DATA_DIR}\")\nFileNotFoundError: No MHD file found for series_uid: 1.3.6.1.4.1.14519.5.2.1.6279.6001.100225287222365663678666836860 in c:\\PROJECTS\\lung-cancer-detection\\Luna-3D\\subset0\\subset0\n",
     "output_type": "error",
     "traceback": [
      "\u001b[31m---------------------------------------------------------------------------\u001b[39m",
      "\u001b[31mFileNotFoundError\u001b[39m                         Traceback (most recent call last)",
      "\u001b[36mCell\u001b[39m\u001b[36m \u001b[39m\u001b[32mIn[6]\u001b[39m\u001b[32m, line 1\u001b[39m\n\u001b[32m----> \u001b[39m\u001b[32m1\u001b[39m \u001b[43mrun\u001b[49m\u001b[43m(\u001b[49m\u001b[33;43m'\u001b[39;49m\u001b[33;43msegmentation.prepcache.LunaPrepCacheApp\u001b[39;49m\u001b[33;43m'\u001b[39;49m\u001b[43m)\u001b[49m\n",
      "\u001b[36mCell\u001b[39m\u001b[36m \u001b[39m\u001b[32mIn[2]\u001b[39m\u001b[32m, line 7\u001b[39m, in \u001b[36mrun\u001b[39m\u001b[34m(app, *argv)\u001b[39m\n\u001b[32m      4\u001b[39m log.info(\u001b[33m\"\u001b[39m\u001b[33mRunning: \u001b[39m\u001b[38;5;132;01m{}\u001b[39;00m\u001b[33m(\u001b[39m\u001b[38;5;132;01m{!r}\u001b[39;00m\u001b[33m).main()\u001b[39m\u001b[33m\"\u001b[39m.format(app, argv))\n\u001b[32m      6\u001b[39m app_cls = importstr(*app.rsplit(\u001b[33m'\u001b[39m\u001b[33m.\u001b[39m\u001b[33m'\u001b[39m, \u001b[32m1\u001b[39m))  \u001b[38;5;66;03m# <2>\u001b[39;00m\n\u001b[32m----> \u001b[39m\u001b[32m7\u001b[39m \u001b[43mapp_cls\u001b[49m\u001b[43m(\u001b[49m\u001b[43margv\u001b[49m\u001b[43m)\u001b[49m\u001b[43m.\u001b[49m\u001b[43mmain\u001b[49m\u001b[43m(\u001b[49m\u001b[43m)\u001b[49m\n\u001b[32m      9\u001b[39m log.info(\u001b[33m\"\u001b[39m\u001b[33mFinished: \u001b[39m\u001b[38;5;132;01m{}\u001b[39;00m\u001b[33m.\u001b[39m\u001b[38;5;132;01m{!r}\u001b[39;00m\u001b[33m).main()\u001b[39m\u001b[33m\"\u001b[39m.format(app, argv))\n",
      "\u001b[36mFile \u001b[39m\u001b[32mc:\\PROJECTS\\lung-cancer-detection\\Luna-3D\\segmentation\\prepcache.py:63\u001b[39m, in \u001b[36mLunaPrepCacheApp.main\u001b[39m\u001b[34m(self)\u001b[39m\n\u001b[32m     50\u001b[39m \u001b[38;5;28mself\u001b[39m.prep_dl = DataLoader(\n\u001b[32m     51\u001b[39m     PrepcacheLunaDataset(\n\u001b[32m     52\u001b[39m         \u001b[38;5;66;03m# sortby_str='series_uid',\u001b[39;00m\n\u001b[32m   (...)\u001b[39m\u001b[32m     55\u001b[39m     num_workers=\u001b[38;5;28mself\u001b[39m.cli_args.num_workers,\n\u001b[32m     56\u001b[39m )\n\u001b[32m     58\u001b[39m batch_iter = enumerateWithEstimate(\n\u001b[32m     59\u001b[39m     \u001b[38;5;28mself\u001b[39m.prep_dl,\n\u001b[32m     60\u001b[39m     \u001b[33m\"\u001b[39m\u001b[33mStuffing cache\u001b[39m\u001b[33m\"\u001b[39m,\n\u001b[32m     61\u001b[39m     start_ndx=\u001b[38;5;28mself\u001b[39m.prep_dl.num_workers,\n\u001b[32m     62\u001b[39m )\n\u001b[32m---> \u001b[39m\u001b[32m63\u001b[39m \u001b[43m\u001b[49m\u001b[38;5;28;43;01mfor\u001b[39;49;00m\u001b[43m \u001b[49m\u001b[43mbatch_ndx\u001b[49m\u001b[43m,\u001b[49m\u001b[43m \u001b[49m\u001b[43mbatch_tup\u001b[49m\u001b[43m \u001b[49m\u001b[38;5;129;43;01min\u001b[39;49;00m\u001b[43m \u001b[49m\u001b[43mbatch_iter\u001b[49m\u001b[43m:\u001b[49m\n\u001b[32m     64\u001b[39m \u001b[43m    \u001b[49m\u001b[38;5;28;43;01mpass\u001b[39;49;00m\n",
      "\u001b[36mFile \u001b[39m\u001b[32mc:\\PROJECTS\\lung-cancer-detection\\Luna-3D\\util\\util.py:224\u001b[39m, in \u001b[36menumerateWithEstimate\u001b[39m\u001b[34m(iter, desc_str, start_ndx, print_ndx, backoff, iter_len)\u001b[39m\n\u001b[32m    219\u001b[39m log.warning(\u001b[33m\"\u001b[39m\u001b[38;5;132;01m{}\u001b[39;00m\u001b[33m ----/\u001b[39m\u001b[38;5;132;01m{}\u001b[39;00m\u001b[33m, starting\u001b[39m\u001b[33m\"\u001b[39m.format(\n\u001b[32m    220\u001b[39m     desc_str,\n\u001b[32m    221\u001b[39m     iter_len,\n\u001b[32m    222\u001b[39m ))\n\u001b[32m    223\u001b[39m start_ts = time.time()\n\u001b[32m--> \u001b[39m\u001b[32m224\u001b[39m \u001b[43m\u001b[49m\u001b[38;5;28;43;01mfor\u001b[39;49;00m\u001b[43m \u001b[49m\u001b[43m(\u001b[49m\u001b[43mcurrent_ndx\u001b[49m\u001b[43m,\u001b[49m\u001b[43m \u001b[49m\u001b[43mitem\u001b[49m\u001b[43m)\u001b[49m\u001b[43m \u001b[49m\u001b[38;5;129;43;01min\u001b[39;49;00m\u001b[43m \u001b[49m\u001b[38;5;28;43menumerate\u001b[39;49m\u001b[43m(\u001b[49m\u001b[38;5;28;43miter\u001b[39;49m\u001b[43m)\u001b[49m\u001b[43m:\u001b[49m\n\u001b[32m    225\u001b[39m \u001b[43m    \u001b[49m\u001b[38;5;28;43;01myield\u001b[39;49;00m\u001b[43m \u001b[49m\u001b[43m(\u001b[49m\u001b[43mcurrent_ndx\u001b[49m\u001b[43m,\u001b[49m\u001b[43m \u001b[49m\u001b[43mitem\u001b[49m\u001b[43m)\u001b[49m\n\u001b[32m    226\u001b[39m \u001b[43m    \u001b[49m\u001b[38;5;28;43;01mif\u001b[39;49;00m\u001b[43m \u001b[49m\u001b[43mcurrent_ndx\u001b[49m\u001b[43m \u001b[49m\u001b[43m==\u001b[49m\u001b[43m \u001b[49m\u001b[43mprint_ndx\u001b[49m\u001b[43m:\u001b[49m\n\u001b[32m    227\u001b[39m \u001b[43m        \u001b[49m\u001b[38;5;66;43;03m# ... <1>\u001b[39;49;00m\n",
      "\u001b[36mFile \u001b[39m\u001b[32mc:\\PROJECTS\\lung-cancer-detection\\Luna-3D\\luna\\Lib\\site-packages\\torch\\utils\\data\\dataloader.py:733\u001b[39m, in \u001b[36m_BaseDataLoaderIter.__next__\u001b[39m\u001b[34m(self)\u001b[39m\n\u001b[32m    730\u001b[39m \u001b[38;5;28;01mif\u001b[39;00m \u001b[38;5;28mself\u001b[39m._sampler_iter \u001b[38;5;129;01mis\u001b[39;00m \u001b[38;5;28;01mNone\u001b[39;00m:\n\u001b[32m    731\u001b[39m     \u001b[38;5;66;03m# TODO(https://github.com/pytorch/pytorch/issues/76750)\u001b[39;00m\n\u001b[32m    732\u001b[39m     \u001b[38;5;28mself\u001b[39m._reset()  \u001b[38;5;66;03m# type: ignore[call-arg]\u001b[39;00m\n\u001b[32m--> \u001b[39m\u001b[32m733\u001b[39m data = \u001b[38;5;28;43mself\u001b[39;49m\u001b[43m.\u001b[49m\u001b[43m_next_data\u001b[49m\u001b[43m(\u001b[49m\u001b[43m)\u001b[49m\n\u001b[32m    734\u001b[39m \u001b[38;5;28mself\u001b[39m._num_yielded += \u001b[32m1\u001b[39m\n\u001b[32m    735\u001b[39m \u001b[38;5;28;01mif\u001b[39;00m (\n\u001b[32m    736\u001b[39m     \u001b[38;5;28mself\u001b[39m._dataset_kind == _DatasetKind.Iterable\n\u001b[32m    737\u001b[39m     \u001b[38;5;129;01mand\u001b[39;00m \u001b[38;5;28mself\u001b[39m._IterableDataset_len_called \u001b[38;5;129;01mis\u001b[39;00m \u001b[38;5;129;01mnot\u001b[39;00m \u001b[38;5;28;01mNone\u001b[39;00m\n\u001b[32m    738\u001b[39m     \u001b[38;5;129;01mand\u001b[39;00m \u001b[38;5;28mself\u001b[39m._num_yielded > \u001b[38;5;28mself\u001b[39m._IterableDataset_len_called\n\u001b[32m    739\u001b[39m ):\n",
      "\u001b[36mFile \u001b[39m\u001b[32mc:\\PROJECTS\\lung-cancer-detection\\Luna-3D\\luna\\Lib\\site-packages\\torch\\utils\\data\\dataloader.py:1515\u001b[39m, in \u001b[36m_MultiProcessingDataLoaderIter._next_data\u001b[39m\u001b[34m(self)\u001b[39m\n\u001b[32m   1513\u001b[39m worker_id = \u001b[38;5;28mself\u001b[39m._task_info.pop(idx)[\u001b[32m0\u001b[39m]\n\u001b[32m   1514\u001b[39m \u001b[38;5;28mself\u001b[39m._rcvd_idx += \u001b[32m1\u001b[39m\n\u001b[32m-> \u001b[39m\u001b[32m1515\u001b[39m \u001b[38;5;28;01mreturn\u001b[39;00m \u001b[38;5;28;43mself\u001b[39;49m\u001b[43m.\u001b[49m\u001b[43m_process_data\u001b[49m\u001b[43m(\u001b[49m\u001b[43mdata\u001b[49m\u001b[43m,\u001b[49m\u001b[43m \u001b[49m\u001b[43mworker_id\u001b[49m\u001b[43m)\u001b[49m\n",
      "\u001b[36mFile \u001b[39m\u001b[32mc:\\PROJECTS\\lung-cancer-detection\\Luna-3D\\luna\\Lib\\site-packages\\torch\\utils\\data\\dataloader.py:1550\u001b[39m, in \u001b[36m_MultiProcessingDataLoaderIter._process_data\u001b[39m\u001b[34m(self, data, worker_idx)\u001b[39m\n\u001b[32m   1548\u001b[39m \u001b[38;5;28mself\u001b[39m._try_put_index()\n\u001b[32m   1549\u001b[39m \u001b[38;5;28;01mif\u001b[39;00m \u001b[38;5;28misinstance\u001b[39m(data, ExceptionWrapper):\n\u001b[32m-> \u001b[39m\u001b[32m1550\u001b[39m     \u001b[43mdata\u001b[49m\u001b[43m.\u001b[49m\u001b[43mreraise\u001b[49m\u001b[43m(\u001b[49m\u001b[43m)\u001b[49m\n\u001b[32m   1551\u001b[39m \u001b[38;5;28;01mreturn\u001b[39;00m data\n",
      "\u001b[36mFile \u001b[39m\u001b[32mc:\\PROJECTS\\lung-cancer-detection\\Luna-3D\\luna\\Lib\\site-packages\\torch\\_utils.py:750\u001b[39m, in \u001b[36mExceptionWrapper.reraise\u001b[39m\u001b[34m(self)\u001b[39m\n\u001b[32m    746\u001b[39m \u001b[38;5;28;01mexcept\u001b[39;00m \u001b[38;5;167;01mException\u001b[39;00m:\n\u001b[32m    747\u001b[39m     \u001b[38;5;66;03m# If the exception takes multiple arguments or otherwise can't\u001b[39;00m\n\u001b[32m    748\u001b[39m     \u001b[38;5;66;03m# be constructed, don't try to instantiate since we don't know how to\u001b[39;00m\n\u001b[32m    749\u001b[39m     \u001b[38;5;28;01mraise\u001b[39;00m \u001b[38;5;167;01mRuntimeError\u001b[39;00m(msg) \u001b[38;5;28;01mfrom\u001b[39;00m\u001b[38;5;250m \u001b[39m\u001b[38;5;28;01mNone\u001b[39;00m\n\u001b[32m--> \u001b[39m\u001b[32m750\u001b[39m \u001b[38;5;28;01mraise\u001b[39;00m exception\n",
      "\u001b[31mFileNotFoundError\u001b[39m: Caught FileNotFoundError in DataLoader worker process 0.\nOriginal Traceback (most recent call last):\n  File \"c:\\PROJECTS\\lung-cancer-detection\\Luna-3D\\luna\\Lib\\site-packages\\torch\\utils\\data\\_utils\\worker.py\", line 349, in _worker_loop\n    data = fetcher.fetch(index)  # type: ignore[possibly-undefined]\n           ^^^^^^^^^^^^^^^^^^^^\n  File \"c:\\PROJECTS\\lung-cancer-detection\\Luna-3D\\luna\\Lib\\site-packages\\torch\\utils\\data\\_utils\\fetch.py\", line 52, in fetch\n    data = [self.dataset[idx] for idx in possibly_batched_index]\n            ~~~~~~~~~~~~^^^^^\n  File \"c:\\PROJECTS\\lung-cancer-detection\\Luna-3D\\segmentation\\dsets.py\", line 373, in __getitem__\n    getCtRawCandidate(candidateInfo_tup.series_uid, candidateInfo_tup.center_xyz, (7, 96, 96))\n  File \"c:\\PROJECTS\\lung-cancer-detection\\Luna-3D\\luna\\Lib\\site-packages\\diskcache\\core.py\", line 1875, in wrapper\n    result = func(*args, **kwargs)\n             ^^^^^^^^^^^^^^^^^^^^^\n  File \"c:\\PROJECTS\\lung-cancer-detection\\Luna-3D\\segmentation\\dsets.py\", line 227, in getCtRawCandidate\n    ct = getCt(series_uid)\n         ^^^^^^^^^^^^^^^^^\n  File \"c:\\PROJECTS\\lung-cancer-detection\\Luna-3D\\segmentation\\dsets.py\", line 223, in getCt\n    return Ct(series_uid)\n           ^^^^^^^^^^^^^^\n  File \"c:\\PROJECTS\\lung-cancer-detection\\Luna-3D\\segmentation\\dsets.py\", line 112, in __init__\n    raise FileNotFoundError(f\"No MHD file found for series_uid: {series_uid} in {config.DATA_DIR}\")\nFileNotFoundError: No MHD file found for series_uid: 1.3.6.1.4.1.14519.5.2.1.6279.6001.100225287222365663678666836860 in c:\\PROJECTS\\lung-cancer-detection\\Luna-3D\\subset0\\subset0\n"
     ]
    }
   ],
   "source": [
    "run('segmentation.prepcache.LunaPrepCacheApp')"
   ]
  },
  {
   "cell_type": "code",
   "execution_count": 8,
   "id": "a7fc7176",
   "metadata": {},
   "outputs": [
    {
     "ename": "NameError",
     "evalue": "name 'cfg' is not defined",
     "output_type": "error",
     "traceback": [
      "\u001b[31m---------------------------------------------------------------------------\u001b[39m",
      "\u001b[31mNameError\u001b[39m                                 Traceback (most recent call last)",
      "\u001b[36mCell\u001b[39m\u001b[36m \u001b[39m\u001b[32mIn[8]\u001b[39m\u001b[32m, line 1\u001b[39m\n\u001b[32m----> \u001b[39m\u001b[32m1\u001b[39m \u001b[38;5;28mprint\u001b[39m(\u001b[43mcfg\u001b[49m.prep_data_path)\n",
      "\u001b[31mNameError\u001b[39m: name 'cfg' is not defined"
     ]
    }
   ],
   "source": [
    "print(cfg.prep_data_path)\n"
   ]
  },
  {
   "cell_type": "code",
   "execution_count": 9,
   "id": "b9e2516d",
   "metadata": {},
   "outputs": [
    {
     "name": "stderr",
     "output_type": "stream",
     "text": [
      "2025-08-04 18:13:06,074 INFO     pid:7580 nb:004:run Running: segmentation.training.LunaTrainingApp(['--num-workers=8', '--epochs=1', 'unbalanced']).main()\n"
     ]
    },
    {
     "ename": "ImportError",
     "evalue": "segmentation.training.LunaTrainingApp",
     "output_type": "error",
     "traceback": [
      "\u001b[31m---------------------------------------------------------------------------\u001b[39m",
      "\u001b[31mAttributeError\u001b[39m                            Traceback (most recent call last)",
      "\u001b[36mFile \u001b[39m\u001b[32mc:\\PROJECTS\\lung-cancer-detection\\Luna-3D\\util\\util.py:52\u001b[39m, in \u001b[36mimportstr\u001b[39m\u001b[34m(module_str, from_)\u001b[39m\n\u001b[32m     51\u001b[39m \u001b[38;5;28;01mtry\u001b[39;00m:\n\u001b[32m---> \u001b[39m\u001b[32m52\u001b[39m     \u001b[38;5;28;01mreturn\u001b[39;00m \u001b[38;5;28;43mgetattr\u001b[39;49m\u001b[43m(\u001b[49m\u001b[43mmodule\u001b[49m\u001b[43m,\u001b[49m\u001b[43m \u001b[49m\u001b[43mfrom_\u001b[49m\u001b[43m)\u001b[49m\n\u001b[32m     53\u001b[39m \u001b[38;5;28;01mexcept\u001b[39;00m:\n",
      "\u001b[31mAttributeError\u001b[39m: module 'segmentation.training' has no attribute 'LunaTrainingApp'",
      "\nDuring handling of the above exception, another exception occurred:\n",
      "\u001b[31mImportError\u001b[39m                               Traceback (most recent call last)",
      "\u001b[36mCell\u001b[39m\u001b[36m \u001b[39m\u001b[32mIn[9]\u001b[39m\u001b[32m, line 1\u001b[39m\n\u001b[32m----> \u001b[39m\u001b[32m1\u001b[39m \u001b[43mrun\u001b[49m\u001b[43m(\u001b[49m\u001b[33;43m'\u001b[39;49m\u001b[33;43msegmentation.training.LunaTrainingApp\u001b[39;49m\u001b[33;43m'\u001b[39;49m\u001b[43m,\u001b[49m\u001b[43m \u001b[49m\u001b[33;43m'\u001b[39;49m\u001b[33;43m--epochs=1\u001b[39;49m\u001b[33;43m'\u001b[39;49m\u001b[43m,\u001b[49m\u001b[43m \u001b[49m\u001b[33;43m'\u001b[39;49m\u001b[33;43munbalanced\u001b[39;49m\u001b[33;43m'\u001b[39;49m\u001b[43m)\u001b[49m\n",
      "\u001b[36mCell\u001b[39m\u001b[36m \u001b[39m\u001b[32mIn[3]\u001b[39m\u001b[32m, line 6\u001b[39m, in \u001b[36mrun\u001b[39m\u001b[34m(app, *argv)\u001b[39m\n\u001b[32m      3\u001b[39m argv.insert(\u001b[32m0\u001b[39m, \u001b[33m'\u001b[39m\u001b[33m--num-workers=8\u001b[39m\u001b[33m'\u001b[39m)  \u001b[38;5;66;03m# <1>\u001b[39;00m\n\u001b[32m      4\u001b[39m log.info(\u001b[33m\"\u001b[39m\u001b[33mRunning: \u001b[39m\u001b[38;5;132;01m{}\u001b[39;00m\u001b[33m(\u001b[39m\u001b[38;5;132;01m{!r}\u001b[39;00m\u001b[33m).main()\u001b[39m\u001b[33m\"\u001b[39m.format(app, argv))\n\u001b[32m----> \u001b[39m\u001b[32m6\u001b[39m app_cls = \u001b[43mimportstr\u001b[49m\u001b[43m(\u001b[49m\u001b[43m*\u001b[49m\u001b[43mapp\u001b[49m\u001b[43m.\u001b[49m\u001b[43mrsplit\u001b[49m\u001b[43m(\u001b[49m\u001b[33;43m'\u001b[39;49m\u001b[33;43m.\u001b[39;49m\u001b[33;43m'\u001b[39;49m\u001b[43m,\u001b[49m\u001b[43m \u001b[49m\u001b[32;43m1\u001b[39;49m\u001b[43m)\u001b[49m\u001b[43m)\u001b[49m  \u001b[38;5;66;03m# <2>\u001b[39;00m\n\u001b[32m      7\u001b[39m app_cls(argv).main()\n\u001b[32m      9\u001b[39m log.info(\u001b[33m\"\u001b[39m\u001b[33mFinished: \u001b[39m\u001b[38;5;132;01m{}\u001b[39;00m\u001b[33m.\u001b[39m\u001b[38;5;132;01m{!r}\u001b[39;00m\u001b[33m).main()\u001b[39m\u001b[33m\"\u001b[39m.format(app, argv))\n",
      "\u001b[36mFile \u001b[39m\u001b[32mc:\\PROJECTS\\lung-cancer-detection\\Luna-3D\\util\\util.py:54\u001b[39m, in \u001b[36mimportstr\u001b[39m\u001b[34m(module_str, from_)\u001b[39m\n\u001b[32m     52\u001b[39m         \u001b[38;5;28;01mreturn\u001b[39;00m \u001b[38;5;28mgetattr\u001b[39m(module, from_)\n\u001b[32m     53\u001b[39m     \u001b[38;5;28;01mexcept\u001b[39;00m:\n\u001b[32m---> \u001b[39m\u001b[32m54\u001b[39m         \u001b[38;5;28;01mraise\u001b[39;00m \u001b[38;5;167;01mImportError\u001b[39;00m(\u001b[33m'\u001b[39m\u001b[38;5;132;01m{}\u001b[39;00m\u001b[33m.\u001b[39m\u001b[38;5;132;01m{}\u001b[39;00m\u001b[33m'\u001b[39m.format(module_str, from_))\n\u001b[32m     55\u001b[39m \u001b[38;5;28;01mreturn\u001b[39;00m module\n",
      "\u001b[31mImportError\u001b[39m: segmentation.training.LunaTrainingApp"
     ]
    }
   ],
   "source": [
    "run('segmentation.training.LunaTrainingApp', '--epochs=1', 'unbalanced')"
   ]
  },
  {
   "cell_type": "code",
   "execution_count": 9,
   "id": "d768c5fa",
   "metadata": {},
   "outputs": [
    {
     "name": "stdout",
     "output_type": "stream",
     "text": [
      "True\n"
     ]
    }
   ],
   "source": [
    "import torch\n",
    "print(torch.cuda.is_available())"
   ]
  },
  {
   "cell_type": "code",
   "execution_count": null,
   "id": "7b7e1c12",
   "metadata": {},
   "outputs": [],
   "source": []
  }
 ],
 "metadata": {
  "kernelspec": {
   "display_name": "luna",
   "language": "python",
   "name": "python3"
  },
  "language_info": {
   "codemirror_mode": {
    "name": "ipython",
    "version": 3
   },
   "file_extension": ".py",
   "mimetype": "text/x-python",
   "name": "python",
   "nbconvert_exporter": "python",
   "pygments_lexer": "ipython3",
   "version": "3.12.8"
  }
 },
 "nbformat": 4,
 "nbformat_minor": 5
}
